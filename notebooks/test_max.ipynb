{
 "cells": [
  {
   "cell_type": "code",
   "execution_count": 1,
   "metadata": {},
   "outputs": [],
   "source": [
    "import pandas as pd\n",
    "import numpy as np\n",
    "import os \n"
   ]
  },
  {
   "cell_type": "code",
   "execution_count": 2,
   "metadata": {},
   "outputs": [],
   "source": [
    "df = pd.read_csv(\"/home/hensel/projects/vit-masked-face-net/results/finals.csv\")"
   ]
  },
  {
   "cell_type": "code",
   "execution_count": 9,
   "metadata": {},
   "outputs": [
    {
     "data": {
      "text/plain": [
       "epoch                                             20.000000\n",
       "resnet50_train_time                              121.977756\n",
       "resnet50_train_accuracy                            0.990865\n",
       "resnet50_train_loss                                0.993111\n",
       "resnet50_eval_time                                 5.758809\n",
       "                                                    ...    \n",
       "vit_huge_14_augment_pretrained_train_accuracy      0.960068\n",
       "vit_huge_14_augment_pretrained_train_loss          0.480311\n",
       "vit_huge_14_augment_pretrained_eval_time          55.692596\n",
       "vit_huge_14_augment_pretrained_eval_accuracy       0.941176\n",
       "vit_huge_14_augment_pretrained_eval_loss           0.383227\n",
       "Length: 121, dtype: float64"
      ]
     },
     "execution_count": 9,
     "metadata": {},
     "output_type": "execute_result"
    }
   ],
   "source": [
    "df.max()"
   ]
  },
  {
   "cell_type": "code",
   "execution_count": null,
   "metadata": {},
   "outputs": [],
   "source": []
  }
 ],
 "metadata": {
  "interpreter": {
   "hash": "e1dd5dbc35039269e772ed47a109b225faef5c591e9fc019c28165be159ffa3d"
  },
  "kernelspec": {
   "display_name": "Python 3.8.10 64-bit ('skripsi-W-SIb8xI-py3.8': poetry)",
   "language": "python",
   "name": "python3"
  },
  "language_info": {
   "codemirror_mode": {
    "name": "ipython",
    "version": 3
   },
   "file_extension": ".py",
   "mimetype": "text/x-python",
   "name": "python",
   "nbconvert_exporter": "python",
   "pygments_lexer": "ipython3",
   "version": "3.8.10"
  },
  "orig_nbformat": 4
 },
 "nbformat": 4,
 "nbformat_minor": 2
}
