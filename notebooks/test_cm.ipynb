{
 "cells": [
  {
   "cell_type": "code",
   "execution_count": 19,
   "metadata": {},
   "outputs": [],
   "source": [
    "import numpy as np\n",
    "from sklearn.metrics import confusion_matrix,classification_report\n",
    "import seaborn as sns"
   ]
  },
  {
   "cell_type": "code",
   "execution_count": 35,
   "metadata": {},
   "outputs": [],
   "source": [
    "x = np.random.randint(0, 5, size=(100))\n",
    "y = np.random.randint(0, 5, size=(100))"
   ]
  },
  {
   "cell_type": "code",
   "execution_count": 36,
   "metadata": {},
   "outputs": [],
   "source": [
    "cf = confusion_matrix(x, y, labels=[0, 1, 2, 3, 4])"
   ]
  },
  {
   "cell_type": "code",
   "execution_count": 37,
   "metadata": {},
   "outputs": [
    {
     "data": {
      "text/plain": [
       "'              precision    recall  f1-score   support\\n\\n     class 0       0.28      0.28      0.28        25\\n     class 1       0.13      0.16      0.14        19\\n     class 2       0.12      0.13      0.12        15\\n     class 3       0.19      0.16      0.17        19\\n     class 4       0.16      0.14      0.15        22\\n\\n    accuracy                           0.18       100\\n   macro avg       0.17      0.17      0.17       100\\nweighted avg       0.18      0.18      0.18       100\\n'"
      ]
     },
     "execution_count": 37,
     "metadata": {},
     "output_type": "execute_result"
    }
   ],
   "source": [
    "target_names = ['class 0', 'class 1', 'class 2', 'class 3', 'class 4']\n",
    "classification_report(x, y,zero_division=1,target_names=target_names)"
   ]
  },
  {
   "cell_type": "code",
   "execution_count": 38,
   "metadata": {},
   "outputs": [
    {
     "data": {
      "text/plain": [
       "<AxesSubplot:>"
      ]
     },
     "execution_count": 38,
     "metadata": {},
     "output_type": "execute_result"
    },
    {
     "data": {
      "image/png": "[encoded data removed]",
      "text/plain": [
       "<Figure size 432x288 with 2 Axes>"
      ]
     },
     "metadata": {
      "needs_background": "light"
     },
     "output_type": "display_data"
    }
   ],
   "source": [
    "import seaborn as sns\n",
    "labels = np.asanyarray(['class 0', 'class 1', 'class 2', 'class 3', 'class 4', 'class 4'])\n",
    "\n",
    "sns.heatmap(cf,xticklabels=labels,yticklabels=labels,annot=True,fmt=\"d\",cmap=\"YlGnBu\")"
   ]
  },
  {
   "cell_type": "code",
   "execution_count": 1,
   "metadata": {},
   "outputs": [
    {
     "data": {
      "text/plain": [
       "'vit_huge_14_augment_pretrained_loss.png'"
      ]
     },
     "execution_count": 1,
     "metadata": {},
     "output_type": "execute_result"
    }
   ],
   "source": [
    "val_dir = \"/home/hensel/projects/vit-masked-face-net/results/plots\"\n",
    "\n",
    "import os\n",
    "import random\n",
    "str(\n",
    "    os.listdir(val_dir)[\n",
    "        random.randint(0, len(os.listdir(val_dir)) - 1)\n",
    "    ]\n",
    ")"
   ]
  },
  {
   "cell_type": "code",
   "execution_count": null,
   "metadata": {},
   "outputs": [],
   "source": []
  }
 ],
 "metadata": {
  "interpreter": {
   "hash": "3700454fecdd1be001501af3e51e1605f93658b11b34a917c79b09c2e7ddae7f"
  },
  "kernelspec": {
   "display_name": "Python 3.8.10 64-bit ('.venv': poetry)",
   "language": "python",
   "name": "python3"
  },
  "language_info": {
   "codemirror_mode": {
    "name": "ipython",
    "version": 3
   },
   "file_extension": ".py",
   "mimetype": "text/x-python",
   "name": "python",
   "nbconvert_exporter": "python",
   "pygments_lexer": "ipython3",
   "version": "3.8.10"
  },
  "orig_nbformat": 4
 },
 "nbformat": 4,
 "nbformat_minor": 2
}
